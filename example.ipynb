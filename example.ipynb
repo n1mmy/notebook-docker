{
 "cells": [
  {
   "cell_type": "code",
   "execution_count": null,
   "id": "0986e2f7-cce3-4006-888d-0399bca9cd0e",
   "metadata": {},
   "outputs": [],
   "source": [
    "import logging\n",
    "logging.basicConfig(level=logging.DEBUG)"
   ]
  },
  {
   "cell_type": "code",
   "execution_count": null,
   "id": "79b1051c-5b2b-403e-b041-fab5fd586a7c",
   "metadata": {},
   "outputs": [],
   "source": [
    "logging.info(\"output is printed to logs\")"
   ]
  },
  {
   "cell_type": "code",
   "execution_count": null,
   "id": "d8f214eb-12a5-4809-ba71-b6d4025c89e2",
   "metadata": {},
   "outputs": [],
   "source": [
    "%sx ls -l # ipython magics work as well"
   ]
  }
 ],
 "metadata": {
  "kernelspec": {
   "display_name": "Python 3 (ipykernel)",
   "language": "python",
   "name": "python3"
  },
  "language_info": {
   "codemirror_mode": {
    "name": "ipython",
    "version": 3
   },
   "file_extension": ".py",
   "mimetype": "text/x-python",
   "name": "python",
   "nbconvert_exporter": "python",
   "pygments_lexer": "ipython3",
   "version": "3.8.10"
  }
 },
 "nbformat": 4,
 "nbformat_minor": 5
}
